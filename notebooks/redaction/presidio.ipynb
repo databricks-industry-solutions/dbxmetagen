{
 "cells": [
  {
   "cell_type": "code",
   "execution_count": 0,
   "metadata": {
    "application/vnd.databricks.v1+cell": {
     "cellMetadata": {
      "byteLimit": 2048000,
      "rowLimit": 10000
     },
     "inputWidgets": {},
     "nuid": "e9b7c9e6-2aee-4e22-b939-a3a12135cb9c",
     "showTitle": false,
     "tableResultSettingsMap": {},
     "title": ""
    }
   },
   "outputs": [],
   "source": [
    "%pip install -r ../../requirements.txt\n",
    "%restart_python"
   ]
  },
  {
   "cell_type": "code",
   "execution_count": 0,
   "metadata": {
    "application/vnd.databricks.v1+cell": {
     "cellMetadata": {
      "byteLimit": 2048000,
      "rowLimit": 10000
     },
     "collapsed": true,
     "inputWidgets": {},
     "nuid": "baaa6577-db91-4bd3-85f2-4a16d684f7b9",
     "showTitle": false,
     "tableResultSettingsMap": {},
     "title": ""
    }
   },
   "outputs": [],
   "source": [
    "%pip freeze"
   ]
  },
  {
   "cell_type": "code",
   "execution_count": 0,
   "metadata": {
    "application/vnd.databricks.v1+cell": {
     "cellMetadata": {
      "byteLimit": 2048000,
      "rowLimit": 10000
     },
     "inputWidgets": {},
     "nuid": "025c7abe-342f-430f-9980-496f54af0e58",
     "showTitle": false,
     "tableResultSettingsMap": {},
     "title": ""
    }
   },
   "outputs": [],
   "source": [
    "%load_ext autoreload\n",
    "%autoreload 2"
   ]
  },
  {
   "cell_type": "code",
   "execution_count": 0,
   "metadata": {
    "application/vnd.databricks.v1+cell": {
     "cellMetadata": {
      "byteLimit": 2048000,
      "rowLimit": 10000
     },
     "inputWidgets": {},
     "nuid": "6211a432-0c34-475f-91d4-e28a2f506d78",
     "showTitle": false,
     "tableResultSettingsMap": {},
     "title": ""
    }
   },
   "outputs": [],
   "source": [
    "from src.dbxmetagen.config import MetadataConfig\n",
    "from src.dbxmetagen.deterministic_pi import *\n",
    "from presidio_analyzer import AnalyzerEngine, BatchAnalyzerEngine\n",
    "from presidio_analyzer.dict_analyzer_result import DictAnalyzerResult\n",
    "\n",
    "import pandas as pd\n",
    "from pprint import pprint\n",
    "from typing import Iterator\n",
    "\n",
    "def format_presidio_batch_results(\n",
    "    results: Iterator[DictAnalyzerResult], score_threshold: float = 0\n",
    ") -> List:\n",
    "    # Results must be a dict with col1_name and col2_name as keys.\n",
    "    # col1 should be doc_id\n",
    "    # col2 should be text\n",
    "    col1, col2 = tuple(results)\n",
    "    doc_ids = col1.value\n",
    "    original_texts = col2.value\n",
    "    recognizer_results = col2.recognizer_results\n",
    "\n",
    "    output = []\n",
    "    for i, res_doc in enumerate(recognizer_results):\n",
    "        for j, res_ent in enumerate(res_doc):\n",
    "            ans = res_ent.to_dict()\n",
    "            ans[\"doc_id\"] = doc_ids[i]\n",
    "            ans[\"entity\"] = original_texts[i][res_ent.start : res_ent.end]\n",
    "            if ans.get(\"score\", 0) > score_threshold:\n",
    "                output.append(ans)\n",
    "    return output"
   ]
  },
  {
   "cell_type": "code",
   "execution_count": 0,
   "metadata": {
    "application/vnd.databricks.v1+cell": {
     "cellMetadata": {
      "byteLimit": 2048000,
      "rowLimit": 10000
     },
     "inputWidgets": {},
     "nuid": "63296203-c979-4f3d-add6-06fb3d6a4f2d",
     "showTitle": false,
     "tableResultSettingsMap": {},
     "title": ""
    }
   },
   "outputs": [],
   "source": [
    "df = spark.table(\"dbxmetagen.eval_data.jsl_48docs\")\n",
    "display(df)"
   ]
  },
  {
   "cell_type": "code",
   "execution_count": 0,
   "metadata": {
    "application/vnd.databricks.v1+cell": {
     "cellMetadata": {
      "byteLimit": 2048000,
      "rowLimit": 10000
     },
     "inputWidgets": {},
     "nuid": "17891672-a51d-4041-a741-5b2d21158207",
     "showTitle": false,
     "tableResultSettingsMap": {},
     "title": ""
    }
   },
   "outputs": [],
   "source": [
    "# text_dict = dict(df.select(\"doc_id\", \"text\").limit(3).toPandas().values)\n",
    "text_dict = df.select(\"doc_id\", \"text\").distinct().toPandas().to_dict(orient=\"list\")\n",
    "text_dict"
   ]
  },
  {
   "cell_type": "code",
   "execution_count": 0,
   "metadata": {
    "application/vnd.databricks.v1+cell": {
     "cellMetadata": {
      "byteLimit": 2048000,
      "rowLimit": 10000
     },
     "inputWidgets": {},
     "nuid": "19a5f0b9-266b-4f9c-8c46-cf550fe7e74d",
     "showTitle": false,
     "tableResultSettingsMap": {},
     "title": ""
    }
   },
   "outputs": [],
   "source": [
    "score_threshold = 0.5\n",
    "#analyzer = AnalyzerEngine(default_score_threshold=score_threshold)\n",
    "analyzer = get_analyzer_engine(add_pci=False, default_score_threshold=score_threshold)\n",
    "batch_analyzer = BatchAnalyzerEngine(analyzer_engine=analyzer)\n",
    "results = batch_analyzer.analyze_dict(\n",
    "    text_dict,\n",
    "    language=\"en\",\n",
    "    keys_to_skip=[\"doc_id\"],\n",
    "    score_threshold=score_threshold,\n",
    "    batch_size=16,\n",
    "    n_process=3,\n",
    ")\n",
    "results_copy = results"
   ]
  },
  {
   "cell_type": "code",
   "execution_count": 0,
   "metadata": {
    "application/vnd.databricks.v1+cell": {
     "cellMetadata": {
      "byteLimit": 2048000,
      "rowLimit": 10000
     },
     "inputWidgets": {},
     "nuid": "18b36920-a9c4-4926-a4ac-4ec9b370b450",
     "showTitle": false,
     "tableResultSettingsMap": {},
     "title": ""
    }
   },
   "outputs": [],
   "source": [
    "output = format_presidio_batch_results(results, score_threshold=score_threshold)\n",
    "output"
   ]
  },
  {
   "cell_type": "code",
   "execution_count": 0,
   "metadata": {
    "application/vnd.databricks.v1+cell": {
     "cellMetadata": {
      "byteLimit": 2048000,
      "rowLimit": 10000
     },
     "inputWidgets": {},
     "nuid": "e4a7dcb5-7a5f-45e0-a922-28edb5cda4f0",
     "showTitle": false,
     "tableResultSettingsMap": {},
     "title": ""
    }
   },
   "outputs": [],
   "source": [
    "df_results = spark.createDataFrame(pd.DataFrame(output))\n",
    "display(df_results)"
   ]
  },
  {
   "cell_type": "code",
   "execution_count": 0,
   "metadata": {
    "application/vnd.databricks.v1+cell": {
     "cellMetadata": {
      "byteLimit": 2048000,
      "rowLimit": 10000
     },
     "inputWidgets": {},
     "nuid": "2c7afd74-45a0-42cc-ac6a-26be5a2396c8",
     "showTitle": false,
     "tableResultSettingsMap": {
      "0": {
       "dataGridStateBlob": "{\"version\":1,\"tableState\":{\"columnPinning\":{\"left\":[\"#row_number#\"],\"right\":[]},\"columnSizing\":{},\"columnVisibility\":{}},\"settings\":{\"columns\":{}},\"syncTimestamp\":1760992225090}",
       "filterBlob": null,
       "queryPlanFiltersBlob": null,
       "tableResultIndex": 0
      }
     },
     "title": ""
    }
   },
   "outputs": [],
   "source": [
    "from pyspark.sql.functions import lower, trim, col, asc_nulls_last\n",
    "\n",
    "df_join = df.join(\n",
    "    df_results,\n",
    "    (lower(trim(df_results.entity)) == lower(trim(df.chunk)))\n",
    "    & (df_results.doc_id == df.doc_id)\n",
    "    & (df_results.start == df.begin),\n",
    "    how=\"outer\",\n",
    ").drop(\"text\").orderBy(asc_nulls_last(df.doc_id), asc_nulls_last(df.begin))\n",
    "display(df_join)"
   ]
  },
  {
   "cell_type": "code",
   "execution_count": 0,
   "metadata": {
    "application/vnd.databricks.v1+cell": {
     "cellMetadata": {
      "byteLimit": 2048000,
      "rowLimit": 10000
     },
     "inputWidgets": {},
     "nuid": "1dc2f24d-cb3c-440b-b31f-763c2304c20f",
     "showTitle": false,
     "tableResultSettingsMap": {},
     "title": ""
    }
   },
   "outputs": [],
   "source": [
    "import spacy\n",
    "\n",
    "corpus = '\\n'.join(text_dict['text'])\n",
    "all_tokens = len(corpus)"
   ]
  },
  {
   "cell_type": "code",
   "execution_count": 0,
   "metadata": {
    "application/vnd.databricks.v1+cell": {
     "cellMetadata": {
      "byteLimit": 2048000,
      "rowLimit": 10000
     },
     "inputWidgets": {},
     "nuid": "208ed729-63cb-413a-a9b7-75eb5e3c9349",
     "showTitle": false,
     "tableResultSettingsMap": {},
     "title": ""
    }
   },
   "outputs": [],
   "source": [
    "pos_actual = df.count()\n",
    "pos_pred = df_results.count()\n",
    "tp = df_join.where(col(\"chunk\").isNotNull() & col(\"entity\").isNotNull()).count()\n",
    "fp = pos_pred - tp\n",
    "\n",
    "neg_actual = all_tokens - pos_actual\n",
    "tn = neg_actual - fp\n",
    "fn = pos_actual - tp\n",
    "neg_pred = tn + fn\n",
    "\n",
    "recall = tp/pos_actual\n",
    "precision = tp/pos_pred\n",
    "specificity = tn/neg_actual\n",
    "npv = tn/neg_pred\n",
    "\n",
    "neg_actual, pos_actual, neg_pred, pos_pred, tn, tp, fp, fn, recall, precision, specificity, npv"
   ]
  },
  {
   "cell_type": "markdown",
   "metadata": {
    "application/vnd.databricks.v1+cell": {
     "cellMetadata": {
      "byteLimit": 2048000,
      "rowLimit": 10000
     },
     "inputWidgets": {},
     "nuid": "3e26a183-5654-4d19-a25d-4058aba8c918",
     "showTitle": false,
     "tableResultSettingsMap": {},
     "title": ""
    }
   },
   "source": [
    "|          | Neg_actual |  Pos_actual |        |\n",
    "|----------|------------|-------------|--------|\n",
    "| Neg_pred | 249546     |  772        | 250318 |\n",
    "| Pos_pred |    890     |  707        |   1597 |\n",
    "|          | 250436     | 1479        |        |"
   ]
  }
 ],
 "metadata": {
  "application/vnd.databricks.v1+notebook": {
   "computePreferences": {
    "hardware": {
     "accelerator": null,
     "gpuPoolId": null,
     "memory": null
    }
   },
   "dashboards": [],
   "environmentMetadata": {
    "base_environment": "",
    "environment_version": "4"
   },
   "inputWidgetPreferences": null,
   "language": "python",
   "notebookMetadata": {
    "pythonIndentUnit": 4
   },
   "notebookName": "presidio",
   "widgets": {}
  },
  "language_info": {
   "name": "python"
  }
 },
 "nbformat": 4,
 "nbformat_minor": 0
}
