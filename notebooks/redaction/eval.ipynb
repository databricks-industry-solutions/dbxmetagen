{
 "cells": [
  {
   "cell_type": "code",
   "execution_count": 0,
   "metadata": {
    "application/vnd.databricks.v1+cell": {
     "cellMetadata": {
      "byteLimit": 2048000,
      "rowLimit": 10000
     },
     "inputWidgets": {},
     "nuid": "63296203-c979-4f3d-add6-06fb3d6a4f2d",
     "showTitle": false,
     "tableResultSettingsMap": {},
     "title": ""
    }
   },
   "outputs": [],
   "source": [
    "df = spark.table(\"dbxmetagen.eval_data.jsl_48docs\")\n",
    "display(df)"
   ]
  },
  {
   "cell_type": "code",
   "execution_count": 0,
   "metadata": {
    "application/vnd.databricks.v1+cell": {
     "cellMetadata": {
      "byteLimit": 2048000,
      "rowLimit": 10000
     },
     "inputWidgets": {},
     "nuid": "2c7afd74-45a0-42cc-ac6a-26be5a2396c8",
     "showTitle": false,
     "tableResultSettingsMap": {
      "0": {
       "dataGridStateBlob": "{\"version\":1,\"tableState\":{\"columnPinning\":{\"left\":[\"#row_number#\"],\"right\":[]},\"columnSizing\":{},\"columnVisibility\":{}},\"settings\":{\"columns\":{}},\"syncTimestamp\":1760992225090}",
       "filterBlob": null,
       "queryPlanFiltersBlob": null,
       "tableResultIndex": 0
      }
     },
     "title": ""
    }
   },
   "outputs": [],
   "source": [
    "from pyspark.sql.functions import lower, trim, col, asc_nulls_last\n",
    "\n",
    "df_join = df.join(\n",
    "    df_results,\n",
    "    (lower(trim(df_results.entity)) == lower(trim(df.chunk)))\n",
    "    & (df_results.doc_id == df.doc_id)\n",
    "    & (df_results.start == df.begin),\n",
    "    how=\"outer\",\n",
    ").drop(\"text\").orderBy(asc_nulls_last(df.doc_id), asc_nulls_last(df.begin))\n",
    "display(df_join)"
   ]
  },
  {
   "cell_type": "code",
   "execution_count": 0,
   "metadata": {
    "application/vnd.databricks.v1+cell": {
     "cellMetadata": {
      "byteLimit": 2048000,
      "rowLimit": 10000
     },
     "inputWidgets": {},
     "nuid": "1dc2f24d-cb3c-440b-b31f-763c2304c20f",
     "showTitle": false,
     "tableResultSettingsMap": {},
     "title": ""
    }
   },
   "outputs": [],
   "source": [
    "import spacy\n",
    "\n",
    "text_dict = df.select(\"doc_id\", \"text\").distinct().toPandas().to_dict(orient=\"list\")\n",
    "corpus = '\\n'.join(text_dict['text'])\n",
    "all_tokens = len(corpus)"
   ]
  },
  {
   "cell_type": "code",
   "execution_count": 0,
   "metadata": {
    "application/vnd.databricks.v1+cell": {
     "cellMetadata": {
      "byteLimit": 2048000,
      "rowLimit": 10000
     },
     "inputWidgets": {},
     "nuid": "208ed729-63cb-413a-a9b7-75eb5e3c9349",
     "showTitle": false,
     "tableResultSettingsMap": {},
     "title": ""
    }
   },
   "outputs": [],
   "source": [
    "pos_actual = df.count()\n",
    "pos_pred = df_results.count()\n",
    "tp = df_join.where(col(\"chunk\").isNotNull() & col(\"entity\").isNotNull()).count()\n",
    "fp = pos_pred - tp\n",
    "\n",
    "neg_actual = all_tokens - pos_actual\n",
    "tn = neg_actual - fp\n",
    "fn = pos_actual - tp\n",
    "neg_pred = tn + fn\n",
    "\n",
    "recall = tp/pos_actual\n",
    "precision = tp/pos_pred\n",
    "specificity = tn/neg_actual\n",
    "npv = tn/neg_pred\n",
    "\n",
    "neg_actual, pos_actual, neg_pred, pos_pred, tn, tp, fp, fn, recall, precision, specificity, npv"
   ]
  },
  {
   "cell_type": "markdown",
   "metadata": {
    "application/vnd.databricks.v1+cell": {
     "cellMetadata": {
      "byteLimit": 2048000,
      "rowLimit": 10000
     },
     "inputWidgets": {},
     "nuid": "3e26a183-5654-4d19-a25d-4058aba8c918",
     "showTitle": false,
     "tableResultSettingsMap": {},
     "title": ""
    }
   },
   "source": [
    "|          | Neg_actual |  Pos_actual |        |\n",
    "|----------|------------|-------------|--------|\n",
    "| Neg_pred | 249546     |  772        | 250318 |\n",
    "| Pos_pred |    890     |  707        |   1597 |\n",
    "|          | 250436     | 1479        |        |"
   ]
  }
 ],
 "metadata": {
  "application/vnd.databricks.v1+notebook": {
   "computePreferences": {
    "hardware": {
     "accelerator": null,
     "gpuPoolId": null,
     "memory": null
    }
   },
   "dashboards": [],
   "environmentMetadata": {
    "base_environment": "",
    "environment_version": "4"
   },
   "inputWidgetPreferences": null,
   "language": "python",
   "notebookMetadata": {
    "pythonIndentUnit": 4
   },
   "notebookName": "eval",
   "widgets": {}
  },
  "language_info": {
   "name": "python"
  }
 },
 "nbformat": 4,
 "nbformat_minor": 0
}
